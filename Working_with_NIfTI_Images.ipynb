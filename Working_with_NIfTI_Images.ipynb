{
  "nbformat": 4,
  "nbformat_minor": 0,
  "metadata": {
    "colab": {
      "name": "Working with NIfTI Images.ipynb",
      "provenance": [],
      "collapsed_sections": []
    },
    "kernelspec": {
      "display_name": "Python 3",
      "name": "python3"
    }
  },
  "cells": [
    {
      "cell_type": "markdown",
      "metadata": {
        "id": "KYz0cnBzB_0A"
      },
      "source": [
        "# Working with NIfTI Images"
      ]
    },
    {
      "cell_type": "markdown",
      "metadata": {
        "id": "KfOicsyCDCkU"
      },
      "source": [
        "## References:\n",
        "\n",
        "* This notebook is based on NiBabel Manual \"Working with NIfTI images\", which is available at the following [link](https://nipy.org/nibabel/nifti_images.html);"
      ]
    },
    {
      "cell_type": "code",
      "metadata": {
        "colab": {
          "base_uri": "https://localhost:8080/"
        },
        "id": "YHfNXAL4-be4",
        "outputId": "a00a45b7-15db-4c2e-fb98-489fa95c0169"
      },
      "source": [
        "#Project Folder:\n",
        "%cd /content/drive/MyDrive/Medical_Images_Segmentation/EDA"
      ],
      "execution_count": null,
      "outputs": [
        {
          "output_type": "stream",
          "text": [
            "/content/drive/MyDrive/Medical_Images_Segmentation/EDA\n"
          ],
          "name": "stdout"
        }
      ]
    },
    {
      "cell_type": "code",
      "metadata": {
        "id": "Z5s-nRe6Ikha"
      },
      "source": [
        "import numpy as np\n",
        "# Set numpy to print only 2 decimal digits\n",
        "np.set_printoptions(precision=2, suppress=True)"
      ],
      "execution_count": null,
      "outputs": []
    },
    {
      "cell_type": "markdown",
      "metadata": {
        "id": "i0NBFIG9I_cW"
      },
      "source": [
        "## NIfTI Image Examples "
      ]
    },
    {
      "cell_type": "code",
      "metadata": {
        "id": "Ixiy8AOoIknx"
      },
      "source": [
        "import os\n",
        "import nibabel as nib\n",
        "from nibabel.testing import data_path"
      ],
      "execution_count": null,
      "outputs": []
    },
    {
      "cell_type": "code",
      "metadata": {
        "colab": {
          "base_uri": "https://localhost:8080/"
        },
        "id": "1qY7uyzgIkv0",
        "outputId": "0919f589-7bcd-4fdf-ad1c-a7ada6d79fe4"
      },
      "source": [
        "example_ni1 = os.path.join(data_path, 'example4d.nii.gz')\n",
        "n1_img = nib.load(example_ni1)\n",
        "n1_img"
      ],
      "execution_count": null,
      "outputs": [
        {
          "output_type": "execute_result",
          "data": {
            "text/plain": [
              "<nibabel.nifti1.Nifti1Image at 0x7fe7f5505d50>"
            ]
          },
          "metadata": {
            "tags": []
          },
          "execution_count": 7
        }
      ]
    },
    {
      "cell_type": "code",
      "metadata": {
        "colab": {
          "base_uri": "https://localhost:8080/"
        },
        "id": "3kyNTWCzIk3J",
        "outputId": "cb7d0dbc-250f-430f-b20d-1179c2d68967"
      },
      "source": [
        "example_ni2 = os.path.join(data_path, 'example_nifti2.nii.gz')\n",
        "n2_img = nib.load(example_ni2)\n",
        "n2_img"
      ],
      "execution_count": null,
      "outputs": [
        {
          "output_type": "execute_result",
          "data": {
            "text/plain": [
              "<nibabel.nifti2.Nifti2Image at 0x7fe7f67628d0>"
            ]
          },
          "metadata": {
            "tags": []
          },
          "execution_count": 8
        }
      ]
    },
    {
      "cell_type": "markdown",
      "metadata": {
        "id": "FAHJqXodKJW6"
      },
      "source": [
        "## The NIfTI Header"
      ]
    },
    {
      "cell_type": "code",
      "metadata": {
        "colab": {
          "base_uri": "https://localhost:8080/"
        },
        "id": "nKH_YQW6Ik-2",
        "outputId": "bc816fc4-3d9d-49de-b4de-cfb473f7eca7"
      },
      "source": [
        "n1_header = n1_img.header\n",
        "print(n1_header)"
      ],
      "execution_count": null,
      "outputs": [
        {
          "output_type": "stream",
          "text": [
            "<class 'nibabel.nifti1.Nifti1Header'> object, endian='<'\n",
            "sizeof_hdr      : 348\n",
            "data_type       : b''\n",
            "db_name         : b''\n",
            "extents         : 0\n",
            "session_error   : 0\n",
            "regular         : b'r'\n",
            "dim_info        : 57\n",
            "dim             : [  4 128  96  24   2   1   1   1]\n",
            "intent_p1       : 0.0\n",
            "intent_p2       : 0.0\n",
            "intent_p3       : 0.0\n",
            "intent_code     : none\n",
            "datatype        : int16\n",
            "bitpix          : 16\n",
            "slice_start     : 0\n",
            "pixdim          : [  -1.     2.     2.     2.2 2000.     1.     1.     1. ]\n",
            "vox_offset      : 0.0\n",
            "scl_slope       : nan\n",
            "scl_inter       : nan\n",
            "slice_end       : 23\n",
            "slice_code      : unknown\n",
            "xyzt_units      : 10\n",
            "cal_max         : 1162.0\n",
            "cal_min         : 0.0\n",
            "slice_duration  : 0.0\n",
            "toffset         : 0.0\n",
            "glmax           : 0\n",
            "glmin           : 0\n",
            "descrip         : b'FSL3.3\\x00 v2.25 NIfTI-1 Single file format'\n",
            "aux_file        : b''\n",
            "qform_code      : scanner\n",
            "sform_code      : scanner\n",
            "quatern_b       : -1.9451068e-26\n",
            "quatern_c       : -0.9967085\n",
            "quatern_d       : -0.08106874\n",
            "qoffset_x       : 117.8551\n",
            "qoffset_y       : -35.722942\n",
            "qoffset_z       : -7.2487984\n",
            "srow_x          : [ -2.     0.     0.   117.86]\n",
            "srow_y          : [ -0.     1.97  -0.36 -35.72]\n",
            "srow_z          : [ 0.    0.32  2.17 -7.25]\n",
            "intent_name     : b''\n",
            "magic           : b'n+1'\n"
          ],
          "name": "stdout"
        }
      ]
    },
    {
      "cell_type": "code",
      "metadata": {
        "colab": {
          "base_uri": "https://localhost:8080/"
        },
        "id": "uBcQLqH3IlJm",
        "outputId": "126febf7-9e28-4a28-f1e4-62767be3e932"
      },
      "source": [
        "n2_header = n2_img.header\n",
        "print(n2_header)"
      ],
      "execution_count": null,
      "outputs": [
        {
          "output_type": "stream",
          "text": [
            "<class 'nibabel.nifti2.Nifti2Header'> object, endian='<'\n",
            "sizeof_hdr      : 540\n",
            "magic           : b'n+2'\n",
            "eol_check       : [13 10 26 10]\n",
            "datatype        : int16\n",
            "bitpix          : 16\n",
            "dim             : [ 4 32 20 12  2  1  1  1]\n",
            "intent_p1       : 0.0\n",
            "intent_p2       : 0.0\n",
            "intent_p3       : 0.0\n",
            "pixdim          : [  -1.     2.     2.     2.2 2000.     1.     1.     1. ]\n",
            "vox_offset      : 0\n",
            "scl_slope       : nan\n",
            "scl_inter       : nan\n",
            "cal_max         : 1162.0\n",
            "cal_min         : 0.0\n",
            "slice_duration  : 0.0\n",
            "toffset         : 0.0\n",
            "slice_start     : 0\n",
            "slice_end       : 23\n",
            "descrip         : b'FSL3.3\\x00 v2.25 NIfTI-1 Single file format'\n",
            "aux_file        : b''\n",
            "qform_code      : scanner\n",
            "sform_code      : scanner\n",
            "quatern_b       : -1.9451068140294884e-26\n",
            "quatern_c       : -0.9967085123062134\n",
            "quatern_d       : -0.0810687392950058\n",
            "qoffset_x       : 117.8551025390625\n",
            "qoffset_y       : -35.72294235229492\n",
            "qoffset_z       : -7.248798370361328\n",
            "srow_x          : [ -2.     0.     0.   117.86]\n",
            "srow_y          : [ -0.     1.97  -0.36 -35.72]\n",
            "srow_z          : [ 0.    0.32  2.17 -7.25]\n",
            "slice_code      : unknown\n",
            "xyzt_units      : 10\n",
            "intent_code     : none\n",
            "intent_name     : b''\n",
            "dim_info        : 57\n",
            "unused_str      : b''\n"
          ],
          "name": "stdout"
        }
      ]
    },
    {
      "cell_type": "code",
      "metadata": {
        "colab": {
          "base_uri": "https://localhost:8080/"
        },
        "id": "xdD_IvTjK4qt",
        "outputId": "ac225dce-6b9b-466f-9642-1ac3d2de9281"
      },
      "source": [
        "# to access indiividual elements of the header:\n",
        "n1_header['cal_max']"
      ],
      "execution_count": null,
      "outputs": [
        {
          "output_type": "execute_result",
          "data": {
            "text/plain": [
              "array(1162., dtype=float32)"
            ]
          },
          "metadata": {
            "tags": []
          },
          "execution_count": 11
        }
      ]
    },
    {
      "cell_type": "code",
      "metadata": {
        "colab": {
          "base_uri": "https://localhost:8080/"
        },
        "id": "vHkQWOPmK4z5",
        "outputId": "b6f72c49-d42a-449a-fb86-857171e4d745"
      },
      "source": [
        "n1_header['cal_max'] = 1200\n",
        "n1_header['cal_max']"
      ],
      "execution_count": null,
      "outputs": [
        {
          "output_type": "execute_result",
          "data": {
            "text/plain": [
              "array(1200., dtype=float32)"
            ]
          },
          "metadata": {
            "tags": []
          },
          "execution_count": 12
        }
      ]
    },
    {
      "cell_type": "markdown",
      "metadata": {
        "id": "_v3tUDWYLlEl"
      },
      "source": [
        "## The NIfTI affines"
      ]
    },
    {
      "cell_type": "markdown",
      "metadata": {
        "id": "icggQWcjFsOd"
      },
      "source": [
        "Like other nibabel image types, NIfTI images have an affine relating the voxel coordinates to world coordinates in RAS+ space:"
      ]
    },
    {
      "cell_type": "code",
      "metadata": {
        "colab": {
          "base_uri": "https://localhost:8080/"
        },
        "id": "bBupJHwDK49s",
        "outputId": "116a884e-f37f-4fe4-b9c3-d55df9aa41fc"
      },
      "source": [
        "n1_img.affine"
      ],
      "execution_count": null,
      "outputs": [
        {
          "output_type": "execute_result",
          "data": {
            "text/plain": [
              "array([[ -2.  ,   0.  ,   0.  , 117.86],\n",
              "       [ -0.  ,   1.97,  -0.36, -35.72],\n",
              "       [  0.  ,   0.32,   2.17,  -7.25],\n",
              "       [  0.  ,   0.  ,   0.  ,   1.  ]])"
            ]
          },
          "metadata": {
            "tags": []
          },
          "execution_count": 13
        }
      ]
    },
    {
      "cell_type": "markdown",
      "metadata": {
        "id": "u1sI5slpGugR"
      },
      "source": [
        "Unlike other formats, the NIfTI header format can specify this affine in one of three ways — the sform affine, the qform affine and the fall-back header affine."
      ]
    },
    {
      "cell_type": "markdown",
      "metadata": {
        "id": "8cTPBheiG21R"
      },
      "source": [
        "###The sform affine\n",
        "The header stores the three first rows of the 4 by 4 affine in the header fields srow_x, srow_y, srow_z. The header does not store the fourth row because it is always [0, 0, 0, 1] (see Coordinate systems and affines).\n",
        "\n",
        "You can get the sform affine specifically with the get_sform() method of the image or the header.\n",
        "\n",
        "For example:"
      ]
    },
    {
      "cell_type": "code",
      "metadata": {
        "colab": {
          "base_uri": "https://localhost:8080/"
        },
        "id": "Qx1QvtRYK5Id",
        "outputId": "309072dc-0ac0-4cdd-f608-09edfef3dfd6"
      },
      "source": [
        "print(n1_header['srow_x'])\n",
        "print(n1_header['srow_y'])\n",
        "print(n1_header['srow_z'])"
      ],
      "execution_count": null,
      "outputs": [
        {
          "output_type": "stream",
          "text": [
            "[ -2.     0.     0.   117.86]\n",
            "[ -0.     1.97  -0.36 -35.72]\n",
            "[ 0.    0.32  2.17 -7.25]\n"
          ],
          "name": "stdout"
        }
      ]
    },
    {
      "cell_type": "code",
      "metadata": {
        "colab": {
          "base_uri": "https://localhost:8080/"
        },
        "id": "X5x3JQKqHzmc",
        "outputId": "67ba4311-9a99-41ed-9e3d-74f34c11775a"
      },
      "source": [
        "print(n1_header.get_sform())"
      ],
      "execution_count": null,
      "outputs": [
        {
          "output_type": "stream",
          "text": [
            "[[ -2.     0.     0.   117.86]\n",
            " [ -0.     1.97  -0.36 -35.72]\n",
            " [  0.     0.32   2.17  -7.25]\n",
            " [  0.     0.     0.     1.  ]]\n"
          ],
          "name": "stdout"
        }
      ]
    },
    {
      "cell_type": "code",
      "metadata": {
        "colab": {
          "base_uri": "https://localhost:8080/"
        },
        "id": "ib5sxZmJH7DR",
        "outputId": "601f0334-162b-40e7-a757-b29d78bdcc20"
      },
      "source": [
        "#This affine is valid only if the sform_code is not zero.\n",
        "#The different sform code values specify which RAS+ space the sform affine refers to.\n",
        "print(n1_header['sform_code'])"
      ],
      "execution_count": null,
      "outputs": [
        {
          "output_type": "stream",
          "text": [
            "1\n"
          ],
          "name": "stdout"
        }
      ]
    },
    {
      "cell_type": "code",
      "metadata": {
        "colab": {
          "base_uri": "https://localhost:8080/"
        },
        "id": "GRqrphWdIqdi",
        "outputId": "6a57bc35-9f3a-4b9c-9cb8-c75a42830f4a"
      },
      "source": [
        "# You can get the affine and the code using the coded=True argument to get_sform():\n",
        "print(n1_header.get_sform(coded=True))"
      ],
      "execution_count": null,
      "outputs": [
        {
          "output_type": "stream",
          "text": [
            "(array([[ -2.  ,   0.  ,   0.  , 117.86],\n",
            "       [ -0.  ,   1.97,  -0.36, -35.72],\n",
            "       [  0.  ,   0.32,   2.17,  -7.25],\n",
            "       [  0.  ,   0.  ,   0.  ,   1.  ]]), 1)\n"
          ],
          "name": "stdout"
        }
      ]
    },
    {
      "cell_type": "code",
      "metadata": {
        "colab": {
          "base_uri": "https://localhost:8080/"
        },
        "id": "rUYUP9xAIqqJ",
        "outputId": "629b68c9-1f5d-4e42-c876-fb2ce04d0627"
      },
      "source": [
        "# You can set the sform with the set_sform() method of the header and the image.\n",
        "n1_header.set_sform(np.diag([3, 4, 5, 1]), code = 'mni')\n",
        "n1_header.get_sform(coded=True)"
      ],
      "execution_count": null,
      "outputs": [
        {
          "output_type": "execute_result",
          "data": {
            "text/plain": [
              "(array([[3., 0., 0., 0.],\n",
              "        [0., 4., 0., 0.],\n",
              "        [0., 0., 5., 0.],\n",
              "        [0., 0., 0., 1.]]), 4)"
            ]
          },
          "metadata": {
            "tags": []
          },
          "execution_count": 20
        }
      ]
    },
    {
      "cell_type": "markdown",
      "metadata": {
        "id": "dcX9HEESJneD"
      },
      "source": [
        "###The qform affine"
      ]
    },
    {
      "cell_type": "markdown",
      "metadata": {
        "id": "Yw4aSjJhJyFl"
      },
      "source": [
        "This affine can be calculated from a combination of the voxel sizes (entries 1 through 4 of the pixdim field), a sign flip called qfac stored in entry 0 of pixdim, and a quaternion that can be reconstructed from fields quatern_b, quatern_c, quatern_d.\n",
        "\n",
        "See the code for the get_qform() method for details.\n",
        "\n",
        "You can get and set the qform affine using the equivalent methods to those for the sform: get_qform(), set_qform()."
      ]
    },
    {
      "cell_type": "code",
      "metadata": {
        "colab": {
          "base_uri": "https://localhost:8080/"
        },
        "id": "UQfX8-URIq0x",
        "outputId": "f414ec3b-3452-4731-9151-a5aecdc1a72d"
      },
      "source": [
        "n1_header.get_qform(coded=True)"
      ],
      "execution_count": null,
      "outputs": [
        {
          "output_type": "execute_result",
          "data": {
            "text/plain": [
              "(array([[ -2.  ,   0.  ,   0.  , 117.86],\n",
              "        [ -0.  ,   1.97,  -0.36, -35.72],\n",
              "        [  0.  ,   0.32,   2.17,  -7.25],\n",
              "        [  0.  ,   0.  ,   0.  ,   1.  ]]), 1)"
            ]
          },
          "metadata": {
            "tags": []
          },
          "execution_count": 21
        }
      ]
    },
    {
      "cell_type": "markdown",
      "metadata": {
        "id": "BQeZ3T4COE9D"
      },
      "source": [
        "###The fall-back header affine\n",
        "\n",
        "This is the affine of last resort, constructed only from the pixdim voxel sizes. The NIfTI specification says that this should set the first voxel in the image as [0, 0, 0] in world coordinates, but we nibabblers follow SPM in preferring to set the central voxel to have [0, 0, 0] world coordinate. The NIfTI spec also implies that the image should be assumed to be in RAS+ voxel orientation for this affine (see Coordinate systems and affines). Again like SPM, we prefer to assume LAS+ voxel orientation by default.\n",
        "\n",
        "You can always get the fall-back affine with get_base_affine():"
      ]
    },
    {
      "cell_type": "code",
      "metadata": {
        "colab": {
          "base_uri": "https://localhost:8080/"
        },
        "id": "xug7gcbEIq_h",
        "outputId": "b49a9dbf-c659-4cbe-f07e-e78fbd1d93e3"
      },
      "source": [
        "n1_header.get_base_affine()"
      ],
      "execution_count": null,
      "outputs": [
        {
          "output_type": "execute_result",
          "data": {
            "text/plain": [
              "array([[ -2. ,   0. ,   0. , 127. ],\n",
              "       [  0. ,   2. ,   0. , -95. ],\n",
              "       [  0. ,   0. ,   2.2, -25.3],\n",
              "       [  0. ,   0. ,   0. ,   1. ]])"
            ]
          },
          "metadata": {
            "tags": []
          },
          "execution_count": 22
        }
      ]
    },
    {
      "cell_type": "markdown",
      "metadata": {
        "id": "5UnsfutIPEDj"
      },
      "source": [
        "###Choosing the image affine\n",
        "Given there are three possible affines defined in the NIfTI header, nibabel has to chose which of these to use for the image affine.\n",
        "\n",
        "The algorithm is defined in the get_best_affine() method. It is:\n",
        "\n",
        "If sform_code != 0 (‘unknown’) use the sform affine; else\n",
        "If qform_code != 0 (‘unknown’) use the qform affine; else\n",
        "Use the fall-back affine."
      ]
    },
    {
      "cell_type": "markdown",
      "metadata": {
        "id": "WOEBiZXvPcJ2"
      },
      "source": [
        "### Default sform and qform codes"
      ]
    },
    {
      "cell_type": "code",
      "metadata": {
        "id": "HmCNcfKVPBhD"
      },
      "source": [
        "# If you create a new image, e.g.:\n",
        "data = np.random.random((20, 20, 20))\n",
        "xform = np.eye(4) * 2\n",
        "img = nib.nifti1.Nifti1Image(data, xform)"
      ],
      "execution_count": null,
      "outputs": []
    },
    {
      "cell_type": "code",
      "metadata": {
        "colab": {
          "base_uri": "https://localhost:8080/"
        },
        "id": "x559H27-PBsa",
        "outputId": "e2905453-244a-4593-862f-ff0bc3d8c08c"
      },
      "source": [
        "#The sform and qform codes will be initialised to 2 (aligned) and 0 (unknown) respectively:\n",
        "img.get_sform(coded=True) "
      ],
      "execution_count": null,
      "outputs": [
        {
          "output_type": "execute_result",
          "data": {
            "text/plain": [
              "(array([[2., 0., 0., 0.],\n",
              "        [0., 2., 0., 0.],\n",
              "        [0., 0., 2., 0.],\n",
              "        [0., 0., 0., 1.]]), 2)"
            ]
          },
          "metadata": {
            "tags": []
          },
          "execution_count": 27
        }
      ]
    },
    {
      "cell_type": "code",
      "metadata": {
        "colab": {
          "base_uri": "https://localhost:8080/"
        },
        "id": "4oP_fjktPB3N",
        "outputId": "36e8a6c4-5d1a-4a97-9741-ef464e9359b2"
      },
      "source": [
        "img.get_qform(coded=True)"
      ],
      "execution_count": null,
      "outputs": [
        {
          "output_type": "execute_result",
          "data": {
            "text/plain": [
              "(None, 0)"
            ]
          },
          "metadata": {
            "tags": []
          },
          "execution_count": 28
        }
      ]
    },
    {
      "cell_type": "markdown",
      "metadata": {
        "id": "_xktjQthQRAv"
      },
      "source": [
        "This is based on the assumption that the affine you specify for a newly created image will align the image to some known coordinate system. According to the NIfTI specification, the qform is intended to encode a transformation into scanner coordinates - for a programmatically created image, we have no way of knowing what the scanner coordinate system is; furthermore, the qform cannot be used to store an arbitrary affine transform, as it is unable to encode shears. So the provided affine will be stored in the sform, and the qform will be left uninitialised.\n",
        "\n",
        "If you create a new image and specify an existing header, e.g.:"
      ]
    },
    {
      "cell_type": "code",
      "metadata": {
        "id": "JgsRqUXwPCCN"
      },
      "source": [
        "example_ni1 = os.path.join(data_path, 'example4d.nii.gz')\n",
        "n1_img = nib.load(example_ni1)\n",
        "new_header = header = n1_img.header.copy()\n",
        "new_data = np.random.random(n1_img.shape[:3])\n",
        "new_img = nib.nifti1.Nifti1Image(data, None, header=new_header)\n",
        "#then the newly created image will inherit the same sform and qform \n",
        "#codes that are in the provided header. "
      ],
      "execution_count": null,
      "outputs": []
    },
    {
      "cell_type": "code",
      "metadata": {
        "id": "U3m6LCAhPCNY"
      },
      "source": [
        "#However, if you create a new image with both an affine and a header specified, e.g.:\n",
        "xform = np.eye(4)\n",
        "new_img = nib.nifti1.Nifti1Image(data, xform, header=new_header)"
      ],
      "execution_count": null,
      "outputs": []
    },
    {
      "cell_type": "markdown",
      "metadata": {
        "id": "45-MYeutR_nn"
      },
      "source": [
        "then the sform and qform codes will only be preserved if the provided affine is the same as the affine in the provided header. If the affines do not match, the sform and qform codes will be set to their default values of 2 and 0 respectively. This is done on the basis that, if you are changing the affine, you are likely to be changing the space to which the affine is pointing. So the original sform and qform codes can no longer be assumed to be valid.\n",
        "\n",
        "If you wish to set the sform and qform affines and/or codes to some other value, you can always set them after creation using the set_sform and set_qform methods, as described above."
      ]
    },
    {
      "cell_type": "markdown",
      "metadata": {
        "id": "h7Evyxh5TIob"
      },
      "source": [
        "##Data Scaling"
      ]
    },
    {
      "cell_type": "markdown",
      "metadata": {
        "id": "07Dk3LLkTNAR"
      },
      "source": [
        "NIfTI uses a simple scheme for data scaling.\n",
        "\n",
        "By default, nibabel will take care of this scaling for you, but there may be times that you want to control the data scaling yourself. If so, the next section describes how the scaling works and the nibabel implementation of same.\n",
        "\n",
        "There are two scaling fields in the header called scl_slope and scl_inter.\n",
        "\n",
        "The output data from a NIfTI image comes from:\n",
        "\n",
        "1.   Loading the binary data from the image file;\n",
        "2.   Casting the numbers to the binary format given in the header and returned by get_data_dtype();\n",
        "3.   Reshaping to the output image shape;\n",
        "4.   Multiplying the result by the header scl_slope value, if both of scl_slope and scl_inter are defined;\n",
        "5.   Adding the value header scl_inter value to the result, if both of scl_slope and scl_inter are defined;\n",
        "\n",
        "\n",
        "‘Defined’ means, the value is not NaN (not a number).\n",
        "\n",
        "All this gets built into the array proxy when you load a NIfTI image.\n",
        "\n",
        "When you load an image, the header scaling values automatically get set to NaN (undefined) to mark the fact that the scaling values have been consumed by the read. The scaling values read from the header on load only appear in the array proxy object.\n",
        "\n",
        "To see how this works, let’s make a new image with some scaling:"
      ]
    },
    {
      "cell_type": "code",
      "metadata": {
        "id": "oiJsLtJ1PCV1"
      },
      "source": [
        "array_data = np.arange(24, dtype=np.int16).reshape((2, 3, 4))\n",
        "affine = np.diag([1, 2, 3, 1])\n",
        "array_img = nib.Nifti1Image(array_data, affine)\n",
        "array_header = array_img.header"
      ],
      "execution_count": null,
      "outputs": []
    },
    {
      "cell_type": "code",
      "metadata": {
        "colab": {
          "base_uri": "https://localhost:8080/"
        },
        "id": "1R_VQMFNVFl5",
        "outputId": "6cf9bac6-dc12-41b0-ea6e-e02f4b73fff7"
      },
      "source": [
        "# The default scaling values are NaN (undefined):\n",
        "array_header['scl_slope']"
      ],
      "execution_count": null,
      "outputs": [
        {
          "output_type": "execute_result",
          "data": {
            "text/plain": [
              "array(nan, dtype=float32)"
            ]
          },
          "metadata": {
            "tags": []
          },
          "execution_count": 35
        }
      ]
    },
    {
      "cell_type": "code",
      "metadata": {
        "colab": {
          "base_uri": "https://localhost:8080/"
        },
        "id": "RLy-E-dEVFxT",
        "outputId": "1a0f3468-1412-4618-d773-c246ec1b1c25"
      },
      "source": [
        "array_header['scl_inter']"
      ],
      "execution_count": null,
      "outputs": [
        {
          "output_type": "execute_result",
          "data": {
            "text/plain": [
              "array(nan, dtype=float32)"
            ]
          },
          "metadata": {
            "tags": []
          },
          "execution_count": 36
        }
      ]
    },
    {
      "cell_type": "code",
      "metadata": {
        "colab": {
          "base_uri": "https://localhost:8080/"
        },
        "id": "nHVSutdMVF5Y",
        "outputId": "9a7a73c8-4f1f-4166-c2f6-0662db460f2f"
      },
      "source": [
        "# You can get the scaling values with the get_slope_inter() method:\n",
        "array_header.get_slope_inter()"
      ],
      "execution_count": null,
      "outputs": [
        {
          "output_type": "execute_result",
          "data": {
            "text/plain": [
              "(None, None)"
            ]
          },
          "metadata": {
            "tags": []
          },
          "execution_count": 37
        }
      ]
    },
    {
      "cell_type": "markdown",
      "metadata": {
        "id": "622SRj2RWICF"
      },
      "source": [
        "None corresponds to the NaN scaling value (undefined).\n",
        "\n",
        "We can set them in the image header, so they get saved to the header when the image is written. We can do this by setting the fields directly, or with set_slope_inter():"
      ]
    },
    {
      "cell_type": "code",
      "metadata": {
        "colab": {
          "base_uri": "https://localhost:8080/"
        },
        "id": "B8tE6JR7VGTc",
        "outputId": "f21eb932-083e-4e1e-da1d-56bca2975660"
      },
      "source": [
        "array_header.set_slope_inter(2, 10)\n",
        "array_header.get_slope_inter()"
      ],
      "execution_count": null,
      "outputs": [
        {
          "output_type": "execute_result",
          "data": {
            "text/plain": [
              "(2.0, 10.0)"
            ]
          },
          "metadata": {
            "tags": []
          },
          "execution_count": 38
        }
      ]
    },
    {
      "cell_type": "code",
      "metadata": {
        "colab": {
          "base_uri": "https://localhost:8080/"
        },
        "id": "QocdXCAPWPby",
        "outputId": "2606ed19-7331-4a66-c38f-ec31e496e56e"
      },
      "source": [
        "array_header['scl_slope']"
      ],
      "execution_count": null,
      "outputs": [
        {
          "output_type": "execute_result",
          "data": {
            "text/plain": [
              "array(2., dtype=float32)"
            ]
          },
          "metadata": {
            "tags": []
          },
          "execution_count": 39
        }
      ]
    },
    {
      "cell_type": "code",
      "metadata": {
        "colab": {
          "base_uri": "https://localhost:8080/"
        },
        "id": "RjdVuK3rWPq9",
        "outputId": "6fefed6f-3b64-4109-ccae-d411a67f8f49"
      },
      "source": [
        "array_header['scl_inter']"
      ],
      "execution_count": null,
      "outputs": [
        {
          "output_type": "execute_result",
          "data": {
            "text/plain": [
              "array(10., dtype=float32)"
            ]
          },
          "metadata": {
            "tags": []
          },
          "execution_count": 40
        }
      ]
    },
    {
      "cell_type": "code",
      "metadata": {
        "id": "S13aAe-CWP6z"
      },
      "source": [
        "#Now we save the image and load it again:\n",
        "nib.save(array_img, 'scaled_image.nii')\n",
        "scaled_img = nib.load('scaled_image.nii')"
      ],
      "execution_count": null,
      "outputs": []
    },
    {
      "cell_type": "code",
      "metadata": {
        "colab": {
          "base_uri": "https://localhost:8080/"
        },
        "id": "EUOpURqcWQMt",
        "outputId": "f46b6c36-334a-45bd-db4f-c9e21e6475dc"
      },
      "source": [
        "# The data array has the scaling applied:\n",
        "scaled_img.get_fdata()"
      ],
      "execution_count": null,
      "outputs": [
        {
          "output_type": "execute_result",
          "data": {
            "text/plain": [
              "array([[[10., 12., 14., 16.],\n",
              "        [18., 20., 22., 24.],\n",
              "        [26., 28., 30., 32.]],\n",
              "\n",
              "       [[34., 36., 38., 40.],\n",
              "        [42., 44., 46., 48.],\n",
              "        [50., 52., 54., 56.]]])"
            ]
          },
          "metadata": {
            "tags": []
          },
          "execution_count": 42
        }
      ]
    },
    {
      "cell_type": "markdown",
      "metadata": {
        "id": "R4Opm72OWuwN"
      },
      "source": [
        "The header for the loaded image has had the scaling reset to undefined, to mark the fact that the scaling has been “consumed” by the load:"
      ]
    },
    {
      "cell_type": "code",
      "metadata": {
        "colab": {
          "base_uri": "https://localhost:8080/"
        },
        "id": "5lI1yHf8WQem",
        "outputId": "f21bf900-2f50-4dbe-ad1c-fc23e65ed1d8"
      },
      "source": [
        "scaled_img.header.get_slope_inter()"
      ],
      "execution_count": null,
      "outputs": [
        {
          "output_type": "execute_result",
          "data": {
            "text/plain": [
              "(None, None)"
            ]
          },
          "metadata": {
            "tags": []
          },
          "execution_count": 43
        }
      ]
    },
    {
      "cell_type": "code",
      "metadata": {
        "colab": {
          "base_uri": "https://localhost:8080/"
        },
        "id": "R3CGQDcqWQtl",
        "outputId": "2be265fc-11a0-4b1a-c771-60b3f5effbaf"
      },
      "source": [
        "#The original slope and intercept are still accessible in the array proxy object:\n",
        "scaled_img.dataobj.slope"
      ],
      "execution_count": null,
      "outputs": [
        {
          "output_type": "execute_result",
          "data": {
            "text/plain": [
              "2.0"
            ]
          },
          "metadata": {
            "tags": []
          },
          "execution_count": 44
        }
      ]
    },
    {
      "cell_type": "code",
      "metadata": {
        "colab": {
          "base_uri": "https://localhost:8080/"
        },
        "id": "qjBynVxHPCr4",
        "outputId": "798eed45-da79-4d92-c6d2-8529788cd206"
      },
      "source": [
        "scaled_img.dataobj.inter"
      ],
      "execution_count": null,
      "outputs": [
        {
          "output_type": "execute_result",
          "data": {
            "text/plain": [
              "10.0"
            ]
          },
          "metadata": {
            "tags": []
          },
          "execution_count": 45
        }
      ]
    },
    {
      "cell_type": "markdown",
      "metadata": {
        "id": "RE1GOO9eXC_f"
      },
      "source": [
        "If the header scaling is undefined when we save the image, nibabel will try to find an optimum slope and intercept to best preserve the precision of the data in the output data type. Because nibabel will set the scaling to undefined when loading the image, or creating a new image, this is the default behavior."
      ]
    }
  ]
}